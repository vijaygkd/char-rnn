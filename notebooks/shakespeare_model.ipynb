{
 "cells": [
  {
   "cell_type": "code",
   "execution_count": 1,
   "id": "e4465cea-09ae-4f77-a949-6353462026cf",
   "metadata": {},
   "outputs": [
    {
     "name": "stdout",
     "output_type": "stream",
     "text": [
      "/Users/vijay/vijaygkd/char-rnn\n"
     ]
    }
   ],
   "source": [
    "cd .."
   ]
  },
  {
   "cell_type": "code",
   "execution_count": 2,
   "id": "143f7702-b184-44e1-ab3a-8a7dba9e35d0",
   "metadata": {},
   "outputs": [],
   "source": [
    "%load_ext autoreload\n",
    "%autoreload 2"
   ]
  },
  {
   "cell_type": "markdown",
   "id": "c088a896-a046-4f2e-8809-c722496576d3",
   "metadata": {},
   "source": [
    "# Imports"
   ]
  },
  {
   "cell_type": "code",
   "execution_count": 3,
   "id": "055c5197-4f2a-4886-95fa-5b07145adf2a",
   "metadata": {},
   "outputs": [
    {
     "name": "stderr",
     "output_type": "stream",
     "text": [
      "/Users/vijay/Library/Caches/pypoetry/virtualenvs/char-rnn-sx3s2mN4-py3.9/lib/python3.9/site-packages/tqdm/auto.py:22: TqdmWarning: IProgress not found. Please update jupyter and ipywidgets. See https://ipywidgets.readthedocs.io/en/stable/user_install.html\n",
      "  from .autonotebook import tqdm as notebook_tqdm\n"
     ]
    }
   ],
   "source": [
    "import numpy as np\n",
    "\n",
    "import torch\n",
    "import torch.nn as nn\n",
    "from torchinfo import summary"
   ]
  },
  {
   "cell_type": "code",
   "execution_count": 5,
   "id": "bfa4bbb9-0d57-4232-948d-5214bd7a41c7",
   "metadata": {},
   "outputs": [],
   "source": [
    "from data.data_utils import process_corpus, str_to_ids, char_idx_to_str\n",
    "from train.train import train, test_batch_gen_text\n",
    "from data.dataloader import process_input_file\n",
    "\n",
    "from model.lstm import LSTM_CharLM\n",
    "from model.model_utils import sample_token"
   ]
  },
  {
   "cell_type": "markdown",
   "id": "d45a01e0-6696-4cf1-8b86-589a7e5547af",
   "metadata": {},
   "source": [
    "## Data"
   ]
  },
  {
   "cell_type": "code",
   "execution_count": 6,
   "id": "efbdcc4f-0de6-4c0c-878e-3902f93797a4",
   "metadata": {},
   "outputs": [
    {
     "name": "stdout",
     "output_type": "stream",
     "text": [
      "Train set: 10595 | Val set: 557\n"
     ]
    }
   ],
   "source": [
    "f = 'data_files/tinyshakespeare.txt'\n",
    "train_dl, val_dl = process_input_file(f, seq_len=100, batch_size=100)"
   ]
  },
  {
   "cell_type": "markdown",
   "id": "9214e898-586a-41fb-bcf6-e44955704c2b",
   "metadata": {},
   "source": [
    "## Model"
   ]
  },
  {
   "cell_type": "code",
   "execution_count": 11,
   "id": "2377e836-71da-45d8-b98c-a9fa62d024da",
   "metadata": {},
   "outputs": [
    {
     "data": {
      "text/plain": [
       "==========================================================================================\n",
       "Layer (type:depth-idx)                   Output Shape              Param #\n",
       "==========================================================================================\n",
       "LSTM_CharLM                              [100, 100, 128]           --\n",
       "├─Embedding: 1-1                         [100, 100, 12]            1,536\n",
       "├─LSTM: 1-2                              [100, 100, 128]           204,800\n",
       "├─Linear: 1-3                            [100, 100, 128]           16,512\n",
       "==========================================================================================\n",
       "Total params: 222,848\n",
       "Trainable params: 222,848\n",
       "Non-trainable params: 0\n",
       "Total mult-adds (G): 2.05\n",
       "==========================================================================================\n",
       "Input size (MB): 0.08\n",
       "Forward/backward pass size (MB): 21.44\n",
       "Params size (MB): 0.89\n",
       "Estimated Total Size (MB): 22.41\n",
       "=========================================================================================="
      ]
     },
     "execution_count": 11,
     "metadata": {},
     "output_type": "execute_result"
    }
   ],
   "source": [
    "# Train model.\n",
    "model = LSTM_CharLM(128, hidden_layers=2)\n",
    "\n",
    "summary(model, input_size=(100,100), dtypes=[torch.long])"
   ]
  },
  {
   "cell_type": "markdown",
   "id": "61bd21c0-17c3-48ec-9193-d6d05aa88cfa",
   "metadata": {},
   "source": [
    "### Train"
   ]
  },
  {
   "cell_type": "code",
   "execution_count": null,
   "id": "e802c7c4-f129-4610-9fb2-2179165a2ced",
   "metadata": {},
   "outputs": [
    {
     "name": "stderr",
     "output_type": "stream",
     "text": [
      "  0%|                                                                                                         | 0/1001 [00:00<?, ?it/s]"
     ]
    },
    {
     "name": "stdout",
     "output_type": "stream",
     "text": [
      "-----------------\n",
      "Epoch: 0 | Loss: 2.8284926871188985\n"
     ]
    },
    {
     "name": "stderr",
     "output_type": "stream",
     "text": [
      "  0%|                                                                                              | 1/1001 [00:43<12:01:32, 43.29s/it]"
     ]
    },
    {
     "name": "stdout",
     "output_type": "stream",
     "text": [
      "Epoch: 0 | Val Loss: 2.3536664281572612\n",
      "<Target>: t true,\n",
      "For blood of ours, shed blood of Montague.\n",
      "O cousin, cousin!\n",
      "\n",
      "PRINCE:\n",
      "Benvolio, who began th\n",
      "<Prediction>:  ther  \n",
      "ou teenn tn tn    toe  teenn tn tou  ner \n",
      "\n",
      "ntoun ng toun ng \n",
      "IEINEEN\n",
      "Io den nn toente endthe\n"
     ]
    }
   ],
   "source": [
    "train(model, train_dl, val_dl, epochs=1000, lr=0.001)"
   ]
  },
  {
   "cell_type": "code",
   "execution_count": null,
   "id": "b3888cb0-cfa9-4c46-9345-64578fb20588",
   "metadata": {},
   "outputs": [],
   "source": []
  }
 ],
 "metadata": {
  "kernelspec": {
   "display_name": "Python 3 (ipykernel)",
   "language": "python",
   "name": "python3"
  },
  "language_info": {
   "codemirror_mode": {
    "name": "ipython",
    "version": 3
   },
   "file_extension": ".py",
   "mimetype": "text/x-python",
   "name": "python",
   "nbconvert_exporter": "python",
   "pygments_lexer": "ipython3",
   "version": "3.9.16"
  }
 },
 "nbformat": 4,
 "nbformat_minor": 5
}
