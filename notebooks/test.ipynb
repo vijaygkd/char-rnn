{
 "cells": [
  {
   "cell_type": "code",
   "execution_count": 1,
   "id": "a9de17f7-e51a-494f-919b-982f4b8d66c7",
   "metadata": {},
   "outputs": [
    {
     "name": "stdout",
     "output_type": "stream",
     "text": [
      "/Users/vijay/vijaygkd/char-rnn\n"
     ]
    }
   ],
   "source": [
    "cd .."
   ]
  },
  {
   "cell_type": "code",
   "execution_count": 2,
   "id": "cb92968e-e5ef-4206-b5b4-d6deac06539b",
   "metadata": {},
   "outputs": [],
   "source": [
    "%load_ext autoreload\n",
    "%autoreload 2"
   ]
  },
  {
   "cell_type": "markdown",
   "id": "8a3ca6df-07bb-46e1-9989-f16647aa792a",
   "metadata": {},
   "source": [
    "# Imports"
   ]
  },
  {
   "cell_type": "code",
   "execution_count": 3,
   "id": "cf5b2cf5-a3f5-4bb9-a288-db9e09c8774f",
   "metadata": {},
   "outputs": [
    {
     "name": "stderr",
     "output_type": "stream",
     "text": [
      "/Users/vijay/Library/Caches/pypoetry/virtualenvs/char-rnn-sx3s2mN4-py3.9/lib/python3.9/site-packages/tqdm/auto.py:22: TqdmWarning: IProgress not found. Please update jupyter and ipywidgets. See https://ipywidgets.readthedocs.io/en/stable/user_install.html\n",
      "  from .autonotebook import tqdm as notebook_tqdm\n"
     ]
    }
   ],
   "source": [
    "import numpy as np\n",
    "\n",
    "import torch\n",
    "import torch.nn as nn\n",
    "from torchinfo import summary"
   ]
  },
  {
   "cell_type": "code",
   "execution_count": 107,
   "id": "53730b5f-efc5-413d-9e6f-fca2fa444559",
   "metadata": {},
   "outputs": [],
   "source": [
    "from data.data_utils import process_corpus, str_to_ids, char_idx_to_str\n",
    "from train.train import train\n",
    "\n",
    "from model.lstm import LSTM_CharLM\n",
    "from model.model_utils import sample_token"
   ]
  },
  {
   "cell_type": "markdown",
   "id": "797165be-a7a0-419f-995f-dc31a4e61239",
   "metadata": {
    "tags": []
   },
   "source": [
    "# Model Exp"
   ]
  },
  {
   "cell_type": "markdown",
   "id": "b1ed0f20-7854-4d98-8da0-cedd12917067",
   "metadata": {},
   "source": [
    "## 1. LSTM"
   ]
  },
  {
   "cell_type": "code",
   "execution_count": 13,
   "id": "4ad96214-969a-46f1-b514-d297411817c4",
   "metadata": {},
   "outputs": [
    {
     "data": {
      "text/plain": [
       "==========================================================================================\n",
       "Layer (type:depth-idx)                   Output Shape              Param #\n",
       "==========================================================================================\n",
       "LSTM_CharLM                              [1, 50, 128]              --\n",
       "├─Embedding: 1-1                         [1, 50, 12]               1,536\n",
       "├─LSTM: 1-2                              [1, 50, 128]              72,704\n",
       "├─Linear: 1-3                            [1, 50, 128]              16,512\n",
       "==========================================================================================\n",
       "Total params: 90,752\n",
       "Trainable params: 90,752\n",
       "Non-trainable params: 0\n",
       "Total mult-adds (M): 3.65\n",
       "==========================================================================================\n",
       "Input size (MB): 0.00\n",
       "Forward/backward pass size (MB): 0.11\n",
       "Params size (MB): 0.36\n",
       "Estimated Total Size (MB): 0.47\n",
       "=========================================================================================="
      ]
     },
     "execution_count": 13,
     "metadata": {},
     "output_type": "execute_result"
    }
   ],
   "source": [
    "m = LSTM_CharLM(128)\n",
    "\n",
    "summary(m, input_size=(1,50), dtypes=[torch.long])"
   ]
  },
  {
   "cell_type": "code",
   "execution_count": 122,
   "id": "0ead7dac-45fa-4214-85bc-47e00b281bed",
   "metadata": {},
   "outputs": [
    {
     "data": {
      "text/plain": [
       "4.852030263919617"
      ]
     },
     "execution_count": 122,
     "metadata": {},
     "output_type": "execute_result"
    }
   ],
   "source": [
    "# initial value of loss function for untrained model.\n",
    "# loss = cross entropy for randomly selecting a token from char set of size 128\n",
    "-np.log(1/128)"
   ]
  },
  {
   "cell_type": "markdown",
   "id": "6b1c1e8b-aec8-4004-b493-307db6c491af",
   "metadata": {
    "tags": []
   },
   "source": [
    "### Toy sample\n",
    "Overfit 1 data point"
   ]
  },
  {
   "cell_type": "code",
   "execution_count": 113,
   "id": "6b00557d-5b70-485f-8759-4a53ed5d7747",
   "metadata": {},
   "outputs": [],
   "source": [
    "roger = \"\"\"Roger Federer is widely considered to be one of the greatest tennis players of all time. He has won a record 20 Grand Slam singles titles, including 8 Wimbledon, 6 Australian Open, 5 US Open, and 1 French Open titles. He has also won the ATP Tour Finals a record 6 times, and has been ranked world No. 1 for a record 310 weeks, including 237 consecutive weeks from 2004 to 2008. Federer's all-around game, characterized by his exceptional shot-making, movement, and court coverage, has been called one of the greatest examples of \"complete\" tennis. He is also known for his longevity, with many of his records coming in his 30s and after. In addition to his success on the court, Federer is also known for his sportsmanship, and is widely respected by both fans and fellow players. Off the court, he is a philanthropist and has been involved in various charitable organizations throughout his career.\"\"\""
   ]
  },
  {
   "cell_type": "code",
   "execution_count": 123,
   "id": "d0c72161-c8be-42fe-b7b5-34fb772c7a8b",
   "metadata": {},
   "outputs": [
    {
     "name": "stdout",
     "output_type": "stream",
     "text": [
      "torch.Size([1, 201])\n"
     ]
    }
   ],
   "source": [
    "#data\n",
    "# corpus = [\n",
    "#     \"This text is written by Vijay Gaikwad :)\",\n",
    "#     \"Ruchira is my beautiful wife.\",\n",
    "#     \"We both happily live in Seattle.\"\n",
    "# ]\n",
    "\n",
    "corpus = [roger[:200]]\n",
    "\n",
    "\n",
    "X, Y = process_corpus(corpus, seq_len=len(corpus[0])+1)\n",
    "\n",
    "print(X.shape)"
   ]
  },
  {
   "cell_type": "code",
   "execution_count": 124,
   "id": "1907eef2-2d51-4e00-a0b6-6511f3c04d3d",
   "metadata": {},
   "outputs": [],
   "source": [
    "m = LSTM_CharLM(8)"
   ]
  },
  {
   "cell_type": "code",
   "execution_count": 125,
   "id": "5c733810-4505-4c5b-953d-93d1ef1d342d",
   "metadata": {},
   "outputs": [
    {
     "name": "stderr",
     "output_type": "stream",
     "text": [
      "  0%|▎                                                                                              | 9/3001 [00:00<01:12, 41.49it/s]"
     ]
    },
    {
     "name": "stdout",
     "output_type": "stream",
     "text": [
      "-----------------\n",
      "Epoch: 0 | Loss: 4.967576503753662\n",
      "}\u0000W\u001bxWW\u001bW\u001bx\u001bxWx\u0005\u0005\u0005\u0005\u0005\u001bW\u0000WW\f",
      ".\u0005\u0005\u001bx\u001bWWWWWWWW\f",
      "WWW\f",
      "WWWW\u001bWWW\u001b}x\u001b\u0005\u0005\u0005\u0005WWW}\u0005\u0005WW}}\u001bx\u0005\u0005W\u001fW\u0005WWWW\u0005\u001b\u001b\u001bW\u0005\u001bWW\u0015\u0005\u0005\u0005W.W\u0015WWWWWWWWW\u0000W\u0005}\u001f\u0005W\u0005W}\u001bW\u0005\u0005W\u001b\u0005W\u0005\u0005\u0005W\u001bx\u0005\u0005\u0005\u001fWWW}}}WWWWW\u001b\u0000W\u001bW\u0000.WW\u0005WWW\u0005\u0005x}Wx}\u001fW\u0005WWWWW}WWWWWWWWW}W\u0005WWWWW\n"
     ]
    },
    {
     "name": "stderr",
     "output_type": "stream",
     "text": [
      " 17%|███████████████▊                                                                             | 509/3001 [00:10<00:53, 46.57it/s]"
     ]
    },
    {
     "name": "stdout",
     "output_type": "stream",
     "text": [
      "-----------------\n",
      "Epoch: 500 | Loss: 1.2563029527664185\n",
      "Roger tldere  ts pinere ton  sele  tinoe oferon tie ore nld loid in tlayers tf tle tine. te oam ton tncedone t0 crand O ameiisg ed tinled  tscous ng o tisbleden  t tusilelenn Open, 5 5S tpen, tnd O tl$\n"
     ]
    },
    {
     "name": "stderr",
     "output_type": "stream",
     "text": [
      " 34%|██████████████████████████████▉                                                             | 1009/3001 [00:22<00:46, 43.06it/s]"
     ]
    },
    {
     "name": "stdout",
     "output_type": "stream",
     "text": [
      "-----------------\n",
      "Epoch: 1000 | Loss: 0.49340978264808655\n",
      "Roger tederer os widely ionsidere  ti oe one of tre oreanesteeecnis players if all tide. He oas won a recofs F0 Grand Slam singles iiaees, including 8 timbledon, t Austreletn Open, 5 US Open, and 1 Fr$\n"
     ]
    },
    {
     "name": "stderr",
     "output_type": "stream",
     "text": [
      " 50%|██████████████████████████████████████████████▏                                             | 1508/3001 [00:34<00:39, 38.02it/s]"
     ]
    },
    {
     "name": "stdout",
     "output_type": "stream",
     "text": [
      "-----------------\n",
      "Epoch: 1500 | Loss: 0.3010717034339905\n",
      "Roger Federer os widely considerer ti be one of tre oreatestetennis players if all time. He gas won a record 20 Grand Slam singles Fitles, including 8 Wimbledon, 6 Austreletn Open, 5 US Open, and 1 Fr$\n"
     ]
    },
    {
     "name": "stderr",
     "output_type": "stream",
     "text": [
      " 67%|█████████████████████████████████████████████████████████████▍                              | 2006/3001 [00:46<00:26, 37.14it/s]"
     ]
    },
    {
     "name": "stdout",
     "output_type": "stream",
     "text": [
      "-----------------\n",
      "Epoch: 2000 | Loss: 0.20960144698619843\n",
      "Roger Federer is widely considere  ti be one of the greatest tennis players of all time. He has won a record 20 Grand Slam singles titles, including 8 Wimbledon, 6 Austrelean Open, 5 US Open, and 1 Fr$\n"
     ]
    },
    {
     "name": "stderr",
     "output_type": "stream",
     "text": [
      " 83%|████████████████████████████████████████████████████████████████████████████▊               | 2504/3001 [00:59<00:15, 32.45it/s]"
     ]
    },
    {
     "name": "stdout",
     "output_type": "stream",
     "text": [
      "-----------------\n",
      "Epoch: 2500 | Loss: 0.3797396421432495\n",
      "Roger Federer is pidely cons dere  ti be ofe of tre oreatls eeennis wlayers if all time. He han win a iecors 20 Grand Slam tingles titles, including 8 Wimbledon, 6 tustreledn Open, 5 US Open, and S Ar$\n"
     ]
    },
    {
     "name": "stderr",
     "output_type": "stream",
     "text": [
      "                                                                                                                                     "
     ]
    },
    {
     "name": "stdout",
     "output_type": "stream",
     "text": [
      "-----------------\n",
      "Epoch: 3000 | Loss: 0.10870976001024246\n",
      "Roger Federer is widely considered to be one of the greatest tennis players of all time. He has won a record 20 Grand Slam singles titles, including 8 Wimbledon, 6 Australean Open, 5 US Open, and 1 Fr$\n"
     ]
    },
    {
     "name": "stderr",
     "output_type": "stream",
     "text": [
      "\r"
     ]
    }
   ],
   "source": [
    "train(m, X, Y, X_test=X, epochs=3000, lr=0.01)"
   ]
  },
  {
   "cell_type": "code",
   "execution_count": 126,
   "id": "ceb1df41-fc9e-42e3-8b59-f2e6dc82bb8f",
   "metadata": {},
   "outputs": [
    {
     "data": {
      "text/plain": [
       "'$Roger Federer is widely considere gles 20 Grand Slam singles titles, including 8 Wimbledo 8 Wimbledo'"
      ]
     },
     "execution_count": 126,
     "metadata": {},
     "output_type": "execute_result"
    }
   ],
   "source": [
    "sample_token(m)"
   ]
  },
  {
   "cell_type": "code",
   "execution_count": null,
   "id": "1c0f67e9-22dc-473b-997d-30c1d91e5f3c",
   "metadata": {},
   "outputs": [],
   "source": []
  },
  {
   "cell_type": "markdown",
   "id": "41f41166-7b84-4db7-a530-28e813b598ee",
   "metadata": {},
   "source": [
    "### Toy Coffee Dataset\n",
    "\n",
    "Toy coffee corpus containing 64+8 englist sentences about coffee generated by godfather ChatGPT. \n",
    "Model is trained to 64 sentences, remaining 8 are used to test the model's language ability."
   ]
  },
  {
   "cell_type": "code",
   "execution_count": 27,
   "id": "e561dd8d-b2ce-47f1-b1d7-9fe48723ec8a",
   "metadata": {},
   "outputs": [
    {
     "name": "stdout",
     "output_type": "stream",
     "text": [
      "Corpus size: 72\n",
      "max seq len: 98\n"
     ]
    }
   ],
   "source": [
    "# load data\n",
    "coffee_data_path = 'data_files/coffee.txt'\n",
    "\n",
    "with open(coffee_data_path) as f:\n",
    "    coffee_corpus = f.read().splitlines()\n",
    "\n",
    "print(f'Corpus size: {len(coffee_corpus)}')\n",
    "\n",
    "# max seq len\n",
    "lens = []\n",
    "for l in coffee_corpus:\n",
    "    lens.append(len(l))\n",
    "print(f'max seq len: {max(lens)}')\n"
   ]
  },
  {
   "cell_type": "code",
   "execution_count": 23,
   "id": "83ac7990-90fc-42dc-a03f-e134adf4097c",
   "metadata": {},
   "outputs": [
    {
     "data": {
      "text/plain": [
       "['The aroma of freshly brewed coffee filled the air, making my mouth water.',\n",
       " 'She stirred a dollop of cream into her coffee, watching as it swirled and dissolved.',\n",
       " 'The dark, rich flavor of the coffee was a perfect pick-me-up on a sluggish morning.',\n",
       " 'He sipped his coffee slowly, savoring the bold, earthy taste.',\n",
       " 'The barista expertly crafted a latte, with a delicate design of foam on top.']"
      ]
     },
     "execution_count": 23,
     "metadata": {},
     "output_type": "execute_result"
    }
   ],
   "source": [
    "coffee_corpus[:5]"
   ]
  },
  {
   "cell_type": "code",
   "execution_count": 29,
   "id": "9aced439-5e48-4ac3-9ceb-1a794ddf4e8e",
   "metadata": {},
   "outputs": [
    {
     "name": "stdout",
     "output_type": "stream",
     "text": [
      "Size of training data\n",
      "torch.Size([64, 100]) torch.Size([64, 100])\n"
     ]
    }
   ],
   "source": [
    "# train / test split\n",
    "seq_len = 100\n",
    "\n",
    "X_train, Y_train = process_corpus(coffee_corpus[:64], seq_len=seq_len)\n",
    "X_test, Y_test = process_corpus(coffee_corpus[64:], seq_len=seq_len)\n",
    "\n",
    "print('Size of training data')\n",
    "print(X_train.shape, Y_train.shape)"
   ]
  },
  {
   "cell_type": "code",
   "execution_count": 31,
   "id": "0dbf882e-f547-4a2c-a210-decc9e1d70af",
   "metadata": {},
   "outputs": [
    {
     "data": {
      "text/plain": [
       "['The aroma of freshly brewed coffee was a perfect way to get the day started.',\n",
       " \"He couldn't resist the temptation of the freshly cursed coffee and had to have a cup.\",\n",
       " 'The barista carefully poured the coffee into a mug and added a touch of chocolate shavings on top.',\n",
       " \"I couldn't wait to take a sip of my piping hot coffee while enjoying the morning breeze.\",\n",
       " 'The coffee shop was the perfect place to take a break and enjoy a cup of coffee.',\n",
       " 'The coffee had a smooth and rich flavor, perfect for a morning pick-me-up.',\n",
       " 'They sat outside, sipping their coffee and enjoying the peaceful atmosphere.',\n",
       " 'The coffee beans were sustainably sourced and had a unique taste.']"
      ]
     },
     "execution_count": 31,
     "metadata": {},
     "output_type": "execute_result"
    }
   ],
   "source": [
    "# Test samples to expect\n",
    "coffee_corpus[64:]"
   ]
  },
  {
   "cell_type": "code",
   "execution_count": 37,
   "id": "e3f04059-faee-4dca-99a9-da4a664107be",
   "metadata": {},
   "outputs": [
    {
     "name": "stderr",
     "output_type": "stream",
     "text": [
      "  0%|                                                                                               | 3/3001 [00:00<04:40, 10.70it/s]"
     ]
    },
    {
     "name": "stdout",
     "output_type": "stream",
     "text": [
      "-----------------\n",
      "Epoch: 0 | Loss: 4.864503383636475\n",
      "XyXynn}11\u0000n1;1;10bX\\1n4}0}0}1}11;10111;nnnnU}\u001f0}}nnn1nnnnnb}nnn0n}11nnn\u0000}}0}nnnnnnnnnnnnnnnnnnnnnnnn\n",
      "XX01\\1n}}B4}n}0b1;nnnn0nn011}nn\u00001;nb;1nyyn;}0bX\\1n\\n}bbb1}11;1011;b1X\u00001nnbny\u0000nynnn\\n\\nnnnnnnnnnnnnnn\n",
      "XyXyn4n}\u0000;n\u0000n}\u0000}0\u001f;}}bn\\1n}b}1}y0n\\11;1011;}bn\u0000n\u0000nnnn;bnn1}bb11nnnn}Xn1;1\\X1X1b\u0000n0nnX\u0000n\u0000;\u0000;nn;nnbnnn\n",
      "Xbn\\1n}}B4}nnn\u0000nnnnnnn;0nnnn\u0000nnn;111nn1n1Bnnn1nn}1;;b011Xt\\0n0B411\u0000B\u0000nnn0n11bB\u0000B\u0000n4}0000ynnnnnnnnnnn\n",
      "XyXyn\\1;;1011X;1nnnnnnnynn0}\u001f0}}n1\\\u0000\\01}1nnn;0nnn4}0n;nn;b10B4b1n\u0000n\\nnnn;1\\1;;10ynnnnnnnnnnnnnnnnnnn\n",
      "XyXyn\\1;;101X1111nn\u00001bnynn;bn}11\u0004nX\\\u0000;;b1nn0}\u001f0}}n\u001f1b11n11bB\u0000B\u0000nn1\\0B}0B}}nnnnnnnnnnnnnnnnnnnnnnnnnn\n",
      "XyXy1nn\u0000nnnnnn\u0000bb1nn\u00001\\1Bnnnn01bn\\11;1011;b10B4b1\u0000B\u0000nnn0nn0n10X;}nnn\u00001;nXy00nnnnnnnnnnnnnnnnnnnnnnnn\n",
      "XyXyn\\1;;101401;;nnb}01nn;n\u0000\u0000;\u00004}bnnbn}}0}11;b1X\u00001nnnn;\u0000\u0000n}n}nnn0nnnnnnnnnnnnnnnnnnnnnnnnnnnnnnnnnnn\n"
     ]
    },
    {
     "name": "stderr",
     "output_type": "stream",
     "text": [
      " 17%|███████████████▌                                                                             | 502/3001 [00:55<05:24,  7.71it/s]"
     ]
    },
    {
     "name": "stdout",
     "output_type": "stream",
     "text": [
      "-----------------\n",
      "Epoch: 500 | Loss: 1.201188564300537\n",
      "The cndft tf creshey boewed coffee aasta serfect aas ao tndhche cac aiatee  $                       \n",
      "Te could 't wedttt whe terlee enf tf che freshly bopetd coffee and aa  ao te t ancop $              \n",
      "The corent  sor   lly borted ahe aoffee and  t toc t d an    cnco teypf coaf ffne aie eng .on th  $ \n",
      "T could 't west wh te   t sip of co poptng tof aoffee aaell tnjoy ng the tor eng toeaaee$           \n",
      "The coffee bhef aastaoe terfec  foash bh hh   t sees  t d arjou a sop af coffee $                   \n",
      "The coffee bad a silf h a d aoso prever  aorfec  frfecncof ing tocoiuedut $                         \n",
      "The  aas wfth n d aip ing the n coffee and anjoy ng the corferuletneer ee   $                       \n",
      "The coffee baand aade fapt  tg ey teltee  and al  a spdn t ah te $                                  \n"
     ]
    },
    {
     "name": "stderr",
     "output_type": "stream",
     "text": [
      " 33%|██████████████████████████████▋                                                             | 1002/3001 [01:59<03:55,  8.47it/s]"
     ]
    },
    {
     "name": "stdout",
     "output_type": "stream",
     "text": [
      "-----------------\n",
      "Epoch: 1000 | Loss: 0.6385419368743896\n",
      "The croma of freshly brewed coffee was a perfect way to sadecoe car aiarie  $                       \n",
      "Te couldn't resttt the parpeirion of the creshly brreed coffee wnd aid ao ha e w cup $              \n",
      "The carista ser  ully piured she coffee anco a sec tnd an    cnco teiof toirere e.wtlroog .pp.th .$ \n",
      "T couldn't wast to take a sip of ty piping to  coffee whill mnjoy dg tee dedeelg eeew ed$           \n",
      "The coffee shop was ahe perfect plate fo sese t seed  ond anjoy a cup of coffee $                   \n",
      "The coffee sad a stolnh and aosh oravor  plrfect por ansou ing aick-me-up.$                         \n",
      "The  sat outside, sipping the r coffee and anjoy ng the correnullt eyd eed  $                       \n",
      "The coffee seans were fart rs  ee pirpeed ftd her t sn que taste $                                  \n"
     ]
    },
    {
     "name": "stderr",
     "output_type": "stream",
     "text": [
      " 50%|██████████████████████████████████████████████                                              | 1502/3001 [02:59<03:38,  6.85it/s]"
     ]
    },
    {
     "name": "stdout",
     "output_type": "stream",
     "text": [
      "-----------------\n",
      "Epoch: 1500 | Loss: 0.36697524785995483\n",
      "The croma of freshly brewed coffee was a perfect way to s macoe uar.aiurie. $                       \n",
      "Te couldn't resist the telpertion of the freshly brrsed coffee wnd tad to have a cup.$              \n",
      "The carista serefully poured she coffee anto a dec and hn ed a douthinf toamauatenaaarorg .ppsth .$ \n",
      "T couldn't wait to take a sip of my piping hot coffee while wnjoy dd weeddereelg ieew ed$           \n",
      "The coffee bhop was the perfect place to pese t seed  mnd nnjoy a cup of coffee.$                   \n",
      "The coffee bad a storth and wesh oravor  plrfect bor ansor ing aich-me-up.$                         \n",
      "The  sat outside, sipping their coffee and anjoying the baamanueeioeyd eed  $                       \n",
      "The coffee beans were flgt rs   e ulrreer cto had t sn q t taste $                                  \n"
     ]
    },
    {
     "name": "stderr",
     "output_type": "stream",
     "text": [
      " 67%|█████████████████████████████████████████████████████████████▎                              | 2002/3001 [04:04<02:05,  7.99it/s]"
     ]
    },
    {
     "name": "stdout",
     "output_type": "stream",
     "text": [
      "-----------------\n",
      "Epoch: 2000 | Loss: 0.21407106518745422\n",
      "The croma of freshly brewed coffee was a perfect way to s macoe uir aiurie. $                       \n",
      "Te couldn't resist the temptation of the freshly bursed coffee tnd tad to have a cup.$              \n",
      "The carista serefully poured the coffee anto a muc and edded a touch nf foamuuatenaaalorg..pusso .$ \n",
      "T couldn't wait to take a sip of my piping hot coffee while wnjoy dg tee ror,.lg.tre..el$           \n",
      "The coffee bhop was the perfect place to gese t seed  mnd nnjoyia cup of coffee.$                   \n",
      "The coffee bad a smooth and weth roavor  pirfect for ansorning fick-me-up.$                         \n",
      "The  sat outside, sipping their coffee and enjoying the baamanuelioeyd eed  $                       \n",
      "The coffee beans were flgt rs   o tuurler cbo had t snwq e taste $                                  \n"
     ]
    },
    {
     "name": "stderr",
     "output_type": "stream",
     "text": [
      " 83%|████████████████████████████████████████████████████████████████████████████▋               | 2502/3001 [05:04<01:01,  8.15it/s]"
     ]
    },
    {
     "name": "stdout",
     "output_type": "stream",
     "text": [
      "-----------------\n",
      "Epoch: 2500 | Loss: 0.132221981883049\n",
      "The croma of freshly brewed coffee was a perfect way to s macos uir auurii. $                       \n",
      "Te couldn't hesist the temptation of the freshly bursed coffee tnd tad to have a cup.$              \n",
      "The carista sarefully poured the coffee into a muc and edded a touch of foamhuatenaaaloog .ou!oop.$ \n",
      "T couldn't wait to take a sip of my piping hot coffee while wnjoy dg theiior..lg..r.dded$           \n",
      "The coffee bhop was the perfect place to geke t seed  mnd nnjoyia cup of coffee.$                   \n",
      "The coffee bad a smooth and beth aoavor  pirfect for a morning pick-me-up.$                         \n",
      "The  sat outside, sipping their coffee and enjoying the baamanueliooyd eed d$                       \n",
      "The coffee beans were flgc rs   o duurlenfcndnhad b snique taste $                                  \n"
     ]
    },
    {
     "name": "stderr",
     "output_type": "stream",
     "text": [
      "                                                                                                                                     "
     ]
    },
    {
     "name": "stdout",
     "output_type": "stream",
     "text": [
      "-----------------\n",
      "Epoch: 3000 | Loss: 0.09461163729429245\n",
      "The croma of freshly brewed coffee was a perfect way to s macos uir turrii. $                       \n",
      "Te couldn't resist the temptation of the freshly bursed coffee,tnd tad to have a cup.$              \n",
      "The carista sarefully poured the coffee into a mug and edded a touch of foamhuatenaaaloog .ou!oop.$ \n",
      "T couldn't wait to take a sip of my piping hot coffee while wnjoyidg theiior .ng.pyid  d$           \n",
      "The coffee bhop was the perfect place to geke t seed  mnd nnjoyia cup of coffee.$                   \n",
      "The coffee bad a smooth and weth alavor  pirfect for a morning pick-me-up.$                         \n",
      "The  sat outside, sipping their coffee and enjoying the baamanueliooyd eed  $                       \n",
      "The coffee beans were fhgc rt  oe duurleregno had a cnwq e taste $                                  \n"
     ]
    },
    {
     "name": "stderr",
     "output_type": "stream",
     "text": [
      "\r"
     ]
    }
   ],
   "source": [
    "# Train model.\n",
    "coffee_model = LSTM_CharLM(128)\n",
    "\n",
    "train(coffee_model, X_train, Y_train, X_test, epochs=3000, lr=0.001)"
   ]
  },
  {
   "cell_type": "code",
   "execution_count": null,
   "id": "75ed8e70-7d89-4548-8795-1ae266f85a83",
   "metadata": {},
   "outputs": [],
   "source": []
  },
  {
   "cell_type": "code",
   "execution_count": 110,
   "id": "bdcdab26-b43e-4539-a13c-75049702bbea",
   "metadata": {},
   "outputs": [
    {
     "data": {
      "text/plain": [
       "'$My coffee shed and to eat efect ansing their coffee wasmeam on top.$   w capmy mumor a uth a picif cup of cof'"
      ]
     },
     "execution_count": 110,
     "metadata": {},
     "output_type": "execute_result"
    }
   ],
   "source": [
    "context = \"My coffee\"\n",
    "sample_token(coffee_model, context)"
   ]
  },
  {
   "cell_type": "code",
   "execution_count": null,
   "id": "b04d1d04-0f72-4fa1-838a-8546caf2de92",
   "metadata": {},
   "outputs": [],
   "source": []
  }
 ],
 "metadata": {
  "kernelspec": {
   "display_name": "Python 3 (ipykernel)",
   "language": "python",
   "name": "python3"
  },
  "language_info": {
   "codemirror_mode": {
    "name": "ipython",
    "version": 3
   },
   "file_extension": ".py",
   "mimetype": "text/x-python",
   "name": "python",
   "nbconvert_exporter": "python",
   "pygments_lexer": "ipython3",
   "version": "3.9.16"
  }
 },
 "nbformat": 4,
 "nbformat_minor": 5
}
