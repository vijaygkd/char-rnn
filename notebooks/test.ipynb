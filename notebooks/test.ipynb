{
 "cells": [
  {
   "cell_type": "code",
   "execution_count": 1,
   "id": "a9de17f7-e51a-494f-919b-982f4b8d66c7",
   "metadata": {},
   "outputs": [
    {
     "name": "stdout",
     "output_type": "stream",
     "text": [
      "/Users/vijay/vijaygkd/char-rnn\n"
     ]
    }
   ],
   "source": [
    "cd .."
   ]
  },
  {
   "cell_type": "markdown",
   "id": "8a3ca6df-07bb-46e1-9989-f16647aa792a",
   "metadata": {},
   "source": [
    "# Imports"
   ]
  },
  {
   "cell_type": "code",
   "execution_count": 2,
   "id": "cf5b2cf5-a3f5-4bb9-a288-db9e09c8774f",
   "metadata": {},
   "outputs": [
    {
     "name": "stderr",
     "output_type": "stream",
     "text": [
      "/Users/vijay/Library/Caches/pypoetry/virtualenvs/char-rnn-sx3s2mN4-py3.9/lib/python3.9/site-packages/tqdm/auto.py:22: TqdmWarning: IProgress not found. Please update jupyter and ipywidgets. See https://ipywidgets.readthedocs.io/en/stable/user_install.html\n",
      "  from .autonotebook import tqdm as notebook_tqdm\n"
     ]
    }
   ],
   "source": [
    "import torch\n",
    "import torch.nn as nn\n",
    "from torchinfo import summary"
   ]
  },
  {
   "cell_type": "markdown",
   "id": "797165be-a7a0-419f-995f-dc31a4e61239",
   "metadata": {},
   "source": [
    "# Model Exp"
   ]
  },
  {
   "cell_type": "markdown",
   "id": "b1ed0f20-7854-4d98-8da0-cedd12917067",
   "metadata": {},
   "source": [
    "## 1. LSTM"
   ]
  },
  {
   "cell_type": "code",
   "execution_count": 3,
   "id": "ac561112-f30a-416d-ac42-ee401ee06e0a",
   "metadata": {},
   "outputs": [],
   "source": [
    "from model.lstm import LSTM_CharLM"
   ]
  },
  {
   "cell_type": "code",
   "execution_count": 4,
   "id": "4ad96214-969a-46f1-b514-d297411817c4",
   "metadata": {},
   "outputs": [
    {
     "name": "stderr",
     "output_type": "stream",
     "text": [
      "/Users/vijay/Library/Caches/pypoetry/virtualenvs/char-rnn-sx3s2mN4-py3.9/lib/python3.9/site-packages/torch/nn/modules/rnn.py:67: UserWarning: dropout option adds dropout after all but last recurrent layer, so non-zero dropout expects num_layers greater than 1, but got dropout=0.5 and num_layers=1\n",
      "  warnings.warn(\"dropout option adds dropout after all but last \"\n"
     ]
    }
   ],
   "source": [
    "m = LSTM_CharLM(1, 128)"
   ]
  },
  {
   "cell_type": "code",
   "execution_count": 5,
   "id": "c3fc990e-603e-438a-a576-87b623e8ad6c",
   "metadata": {},
   "outputs": [],
   "source": [
    "\n",
    "    x = \"hello world\"\n",
    "    # x = \"abcdef\"\n",
    "    x_vec = torch.Tensor([[ord(c)] for c in x])\n",
    "    y = torch.Tensor(x_vec)\n",
    "    op = m(x_vec)"
   ]
  },
  {
   "cell_type": "code",
   "execution_count": 6,
   "id": "e9d250f1-8018-4bf9-810b-8e41eb9b5a7c",
   "metadata": {},
   "outputs": [
    {
     "data": {
      "text/plain": [
       "torch.Size([11, 26])"
      ]
     },
     "execution_count": 6,
     "metadata": {},
     "output_type": "execute_result"
    }
   ],
   "source": [
    "op.shape"
   ]
  },
  {
   "cell_type": "code",
   "execution_count": 7,
   "id": "ce4eecc9-fe0c-4f16-9c4a-6f16a4e0938e",
   "metadata": {},
   "outputs": [
    {
     "data": {
      "text/plain": [
       "torch.Size([11, 1])"
      ]
     },
     "execution_count": 7,
     "metadata": {},
     "output_type": "execute_result"
    }
   ],
   "source": [
    "x_vec.shape"
   ]
  },
  {
   "cell_type": "code",
   "execution_count": 8,
   "id": "71da14e5-7337-4238-9885-c6f73e91e6e1",
   "metadata": {},
   "outputs": [
    {
     "data": {
      "text/plain": [
       "<bound method Module.parameters of LSTM_CharLM(\n",
       "  (hidden): LSTM(1, 128, dropout=0.5)\n",
       "  (output): Linear(in_features=128, out_features=26, bias=True)\n",
       ")>"
      ]
     },
     "execution_count": 8,
     "metadata": {},
     "output_type": "execute_result"
    }
   ],
   "source": [
    "m.parameters"
   ]
  },
  {
   "cell_type": "code",
   "execution_count": 13,
   "id": "19ff2953-f6c5-4b0f-a1ff-750b45d196e9",
   "metadata": {},
   "outputs": [
    {
     "data": {
      "text/plain": [
       "==========================================================================================\n",
       "Layer (type:depth-idx)                   Output Shape              Param #\n",
       "==========================================================================================\n",
       "LSTM_CharLM                              [100, 26]                 --\n",
       "├─LSTM: 1-1                              [100, 128]                67,072\n",
       "├─Linear: 1-2                            [100, 26]                 3,354\n",
       "==========================================================================================\n",
       "Total params: 70,426\n",
       "Trainable params: 70,426\n",
       "Non-trainable params: 0\n",
       "Total mult-adds (M): 858.86\n",
       "==========================================================================================\n",
       "Input size (MB): 0.00\n",
       "Forward/backward pass size (MB): 0.12\n",
       "Params size (MB): 0.28\n",
       "Estimated Total Size (MB): 0.41\n",
       "=========================================================================================="
      ]
     },
     "execution_count": 13,
     "metadata": {},
     "output_type": "execute_result"
    }
   ],
   "source": [
    "summary(m, input_size=(1000,1))"
   ]
  },
  {
   "cell_type": "code",
   "execution_count": null,
   "id": "b4e457ab-b515-4c43-be36-5aba5c657778",
   "metadata": {},
   "outputs": [],
   "source": []
  },
  {
   "cell_type": "code",
   "execution_count": null,
   "id": "fea3d32d-48d7-4ea8-a273-2e0ab08f71f6",
   "metadata": {},
   "outputs": [],
   "source": []
  }
 ],
 "metadata": {
  "kernelspec": {
   "display_name": "Python 3 (ipykernel)",
   "language": "python",
   "name": "python3"
  },
  "language_info": {
   "codemirror_mode": {
    "name": "ipython",
    "version": 3
   },
   "file_extension": ".py",
   "mimetype": "text/x-python",
   "name": "python",
   "nbconvert_exporter": "python",
   "pygments_lexer": "ipython3",
   "version": "3.9.16"
  }
 },
 "nbformat": 4,
 "nbformat_minor": 5
}
