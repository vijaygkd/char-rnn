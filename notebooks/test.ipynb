{
 "cells": [
  {
   "cell_type": "code",
   "execution_count": 1,
   "id": "a9de17f7-e51a-494f-919b-982f4b8d66c7",
   "metadata": {},
   "outputs": [
    {
     "name": "stdout",
     "output_type": "stream",
     "text": [
      "/Users/vijay/vijaygkd/char-rnn\n"
     ]
    }
   ],
   "source": [
    "cd .."
   ]
  },
  {
   "cell_type": "code",
   "execution_count": 16,
   "id": "cb92968e-e5ef-4206-b5b4-d6deac06539b",
   "metadata": {},
   "outputs": [],
   "source": [
    "%load_ext autoreload\n",
    "%autoreload 2"
   ]
  },
  {
   "cell_type": "markdown",
   "id": "8a3ca6df-07bb-46e1-9989-f16647aa792a",
   "metadata": {},
   "source": [
    "# Imports"
   ]
  },
  {
   "cell_type": "code",
   "execution_count": 767,
   "id": "cf5b2cf5-a3f5-4bb9-a288-db9e09c8774f",
   "metadata": {},
   "outputs": [],
   "source": [
    "import numpy as np\n",
    "\n",
    "import torch\n",
    "import torch.nn as nn\n",
    "from torchinfo import summary"
   ]
  },
  {
   "cell_type": "code",
   "execution_count": 768,
   "id": "2663ff0e-0e60-418f-83bf-44d99b49f561",
   "metadata": {},
   "outputs": [],
   "source": [
    "import pprint\n",
    "pp = pprint.PrettyPrinter()"
   ]
  },
  {
   "cell_type": "markdown",
   "id": "797165be-a7a0-419f-995f-dc31a4e61239",
   "metadata": {
    "tags": []
   },
   "source": [
    "# Model Exp"
   ]
  },
  {
   "cell_type": "markdown",
   "id": "b1ed0f20-7854-4d98-8da0-cedd12917067",
   "metadata": {},
   "source": [
    "## 1. LSTM"
   ]
  },
  {
   "cell_type": "code",
   "execution_count": 769,
   "id": "ac561112-f30a-416d-ac42-ee401ee06e0a",
   "metadata": {},
   "outputs": [],
   "source": [
    "from model.lstm import LSTM_CharLM"
   ]
  },
  {
   "cell_type": "code",
   "execution_count": 770,
   "id": "4ad96214-969a-46f1-b514-d297411817c4",
   "metadata": {},
   "outputs": [
    {
     "name": "stderr",
     "output_type": "stream",
     "text": [
      "/Users/vijay/Library/Caches/pypoetry/virtualenvs/char-rnn-sx3s2mN4-py3.9/lib/python3.9/site-packages/torch/nn/modules/rnn.py:67: UserWarning: dropout option adds dropout after all but last recurrent layer, so non-zero dropout expects num_layers greater than 1, but got dropout=0.5 and num_layers=1\n",
      "  warnings.warn(\"dropout option adds dropout after all but last \"\n"
     ]
    },
    {
     "data": {
      "text/plain": [
       "==========================================================================================\n",
       "Layer (type:depth-idx)                   Output Shape              Param #\n",
       "==========================================================================================\n",
       "LSTM_CharLM                              [1, 50, 128]              --\n",
       "├─Embedding: 1-1                         [1, 50, 12]               1,536\n",
       "├─LSTM: 1-2                              [1, 50, 128]              72,704\n",
       "├─Linear: 1-3                            [1, 50, 128]              16,512\n",
       "==========================================================================================\n",
       "Total params: 90,752\n",
       "Trainable params: 90,752\n",
       "Non-trainable params: 0\n",
       "Total mult-adds (M): 3.65\n",
       "==========================================================================================\n",
       "Input size (MB): 0.00\n",
       "Forward/backward pass size (MB): 0.11\n",
       "Params size (MB): 0.36\n",
       "Estimated Total Size (MB): 0.47\n",
       "=========================================================================================="
      ]
     },
     "execution_count": 770,
     "metadata": {},
     "output_type": "execute_result"
    }
   ],
   "source": [
    "m = LSTM_CharLM(128)\n",
    "\n",
    "summary(m, input_size=(1,50), dtypes=[torch.long])"
   ]
  },
  {
   "cell_type": "code",
   "execution_count": 771,
   "id": "8261489d-9f2c-4892-b1e6-41943a6fbef7",
   "metadata": {},
   "outputs": [],
   "source": [
    "def process_text(x):\n",
    "    x = '$' + x\n",
    "    y = x[1:] + '$'\n",
    "    \n",
    "    x_vec = [ord(c) for c in x]\n",
    "    y_vec = [ord(c) for c in y]\n",
    "    return x_vec, y_vec\n",
    "\n",
    "def process_corpus(corpus, seq_len):\n",
    "    \"\"\"corpus is list of docs. Return x and y tensors\"\"\"\n",
    "    pad_idx = ord(' ')\n",
    "    data_shape = (len(corpus), seq_len)\n",
    "    x_arr = np.full(data_shape, pad_idx)\n",
    "    y_arr = np.full(data_shape, pad_idx)\n",
    "    \n",
    "    for i, doc in enumerate(corpus):\n",
    "        doc = doc[:seq_len]\n",
    "        x_vec, y_vec = process_text(doc)\n",
    "        x_arr[i][0:len(x_vec)] = x_vec\n",
    "        y_arr[i][0:len(y_vec)] = y_vec\n",
    "    \n",
    "    X = torch.tensor(x_arr)\n",
    "    Y = torch.tensor(y_arr)\n",
    "    \n",
    "    return X, Y"
   ]
  },
  {
   "cell_type": "code",
   "execution_count": 772,
   "id": "d0c72161-c8be-42fe-b7b5-34fb772c7a8b",
   "metadata": {},
   "outputs": [
    {
     "name": "stdout",
     "output_type": "stream",
     "text": [
      "torch.Size([1, 41])\n"
     ]
    }
   ],
   "source": [
    "#data\n",
    "corpus = [\n",
    "    \"This text is written by Vijay Gaikwad :)\",\n",
    "    # \"Ruchira is my beautiful wife.\",\n",
    "    # \"We both happily live in Seattle.\"\n",
    "]\n",
    "\n",
    "\n",
    "X, Y = process_corpus(corpus, seq_len=len(corpus[0])+1)\n",
    "\n",
    "print(X.shape)"
   ]
  },
  {
   "cell_type": "code",
   "execution_count": 773,
   "id": "1984fecb-e29a-4524-a8dd-b775dd12ffa4",
   "metadata": {},
   "outputs": [],
   "source": [
    "#loss\n",
    "xe = nn.CrossEntropyLoss()\n",
    "\n",
    "# Define an optimizer\n",
    "learning_rate = 0.01\n",
    "optimizer = torch.optim.SGD(m.parameters(), lr=learning_rate)\n",
    "\n",
    "def test_model(model, X):\n",
    "    model.eval()\n",
    "    y_hat = model(X)\n",
    "    y_pred = y_hat.argmax(dim=-1).tolist()\n",
    "    y_ans = []\n",
    "    for ys in y_pred:\n",
    "        yl = [chr(y) for y in ys]\n",
    "        y_ans.append(''.join(yl))\n",
    "    return y_ans\n",
    "\n",
    "def test_single(model, x):\n",
    "    model.eval()\n",
    "    y_hat = model(x)\n",
    "    y_pred = y_hat.argmax(dim=-1).tolist()\n",
    "    yl = [chr(y) for y in y_pred]\n",
    "    y_ans = ''.join(yl)\n",
    "    return y_ans\n",
    "\n",
    "\n",
    "def train_epoch(model, loss_fn, opt, x, y):\n",
    "    model.train()\n",
    "    opt.zero_grad()\n",
    "    y_hat = model(x)\n",
    "    y_hat_perm = y_hat.permute((0,2,1)) \n",
    "    # permute dims so that output is (batch, no_classes, seq_len)\n",
    "    # this ^ order is required by cross-entropy loss class\n",
    "    loss = loss_fn(y_hat_perm, y)\n",
    "    loss.backward()\n",
    "    opt.step()\n",
    "    return loss\n",
    "\n",
    "def train_single(model, loss_fn, opt, x, y):\n",
    "    model.train()\n",
    "    opt.zero_grad()\n",
    "    y_hat = model(x)\n",
    "    loss = loss_fn(y_hat, y)\n",
    "    loss.backward()\n",
    "    opt.step()\n",
    "    return loss\n",
    "\n",
    "def train(model, epochs=10000):\n",
    "    for epoch in range(epochs+1):\n",
    "        loss = train_single(model, xe, optimizer, X[0], Y[0])\n",
    "        if epoch % 1000 == 0:\n",
    "            y_ans = test_single(model, X[0])\n",
    "            print(f'Epoch: {epoch} | Loss: {loss}')\n",
    "            print(y_ans)\n",
    "            print('-----------------')\n",
    "        "
   ]
  },
  {
   "cell_type": "code",
   "execution_count": 774,
   "id": "1907eef2-2d51-4e00-a0b6-6511f3c04d3d",
   "metadata": {},
   "outputs": [],
   "source": [
    "m = LSTM_CharLM(128)\n"
   ]
  },
  {
   "cell_type": "code",
   "execution_count": null,
   "id": "5c733810-4505-4c5b-953d-93d1ef1d342d",
   "metadata": {},
   "outputs": [
    {
     "name": "stdout",
     "output_type": "stream",
     "text": [
      "Epoch: 0 | Loss: 4.878656387329102\n",
      "\u001bcc\u001b''E'c\u001b'\u001bM'!G\u001b\u001bE'0'00'0\u001b\u001b'''<0\u001b\u001bN':'Br\n",
      "-----------------\n"
     ]
    }
   ],
   "source": [
    "train(m, epochs=5000)"
   ]
  },
  {
   "cell_type": "code",
   "execution_count": 622,
   "id": "83ac7990-90fc-42dc-a03f-e134adf4097c",
   "metadata": {},
   "outputs": [],
   "source": []
  },
  {
   "cell_type": "code",
   "execution_count": 711,
   "id": "48852c71-e363-4393-b89b-3e92e87eb44a",
   "metadata": {},
   "outputs": [
    {
     "data": {
      "text/plain": [
       "['This ieTheis irhseeTtiT iTsa  ii s r  iT$']"
      ]
     },
     "execution_count": 711,
     "metadata": {},
     "output_type": "execute_result"
    }
   ],
   "source": [
    "test_model(m, X)"
   ]
  },
  {
   "cell_type": "code",
   "execution_count": 717,
   "id": "6d3d1e7a-e956-4cef-9f8d-ba3730d80748",
   "metadata": {},
   "outputs": [
    {
     "data": {
      "text/plain": [
       "'This text is written by Vijay Gaikwad :)$'"
      ]
     },
     "execution_count": 717,
     "metadata": {},
     "output_type": "execute_result"
    }
   ],
   "source": [
    "test_single(m, X[0])"
   ]
  },
  {
   "cell_type": "code",
   "execution_count": 713,
   "id": "db12ccee-01ee-4a1e-8cb8-d22eb149c8db",
   "metadata": {},
   "outputs": [
    {
     "name": "stdout",
     "output_type": "stream",
     "text": [
      "['This ieTheis irhseeTtiT iTsa  ii s r  iT$']\n"
     ]
    }
   ],
   "source": [
    "    m.eval()\n",
    "    y_hat = m(X)\n",
    "    y_pred = y_hat.argmax(dim=-1).tolist()\n",
    "    y_ans = []\n",
    "    for ys in y_pred:\n",
    "        yl = [chr(y) for y in ys]\n",
    "        y_ans.append(''.join(yl))\n",
    "    print(y_ans)"
   ]
  },
  {
   "cell_type": "code",
   "execution_count": 733,
   "id": "a44d1f62-adfe-4670-b32d-d0fb9a0428e4",
   "metadata": {},
   "outputs": [
    {
     "data": {
      "text/plain": [
       "tensor([[ 84, 104, 105, 115,  32, 105, 101,  84, 104, 101, 105, 115,  32, 105,\n",
       "         114, 104, 115, 101, 101,  84, 116, 105,  84,  32, 105,  84, 115,  97,\n",
       "          32,  32, 105, 105,  32, 115,  32, 114,  32,  32, 105,  84,  36]])"
      ]
     },
     "execution_count": 733,
     "metadata": {},
     "output_type": "execute_result"
    }
   ],
   "source": [
    "m(X).argmax(dim=-1)"
   ]
  },
  {
   "cell_type": "code",
   "execution_count": 734,
   "id": "b30a417c-0344-4c34-b355-33da11cf10e5",
   "metadata": {},
   "outputs": [
    {
     "data": {
      "text/plain": [
       "tensor([ 84, 104, 105, 115,  32, 116, 101, 120, 116,  32, 105, 115,  32, 119,\n",
       "        114, 105, 116, 116, 101, 110,  32,  98, 121,  32,  86, 105, 106,  97,\n",
       "        121,  32,  71,  97, 105, 107, 119,  97, 100,  32,  58,  41,  36])"
      ]
     },
     "execution_count": 734,
     "metadata": {},
     "output_type": "execute_result"
    }
   ],
   "source": [
    "m(X[0]).argmax(dim=-1)"
   ]
  },
  {
   "cell_type": "code",
   "execution_count": 729,
   "id": "a64225c9-6d8f-42ab-9f96-20cc9d689488",
   "metadata": {},
   "outputs": [
    {
     "data": {
      "text/plain": [
       "tensor([[ True,  True,  True,  True,  True, False,  True, False, False, False,\n",
       "          True,  True,  True, False,  True, False, False, False,  True, False,\n",
       "         False, False, False,  True, False, False, False,  True, False,  True,\n",
       "         False, False, False, False, False, False, False,  True, False, False,\n",
       "          True]])"
      ]
     },
     "execution_count": 729,
     "metadata": {},
     "output_type": "execute_result"
    }
   ],
   "source": [
    "m(X[0]).argmax(dim=-1) == m(X).argmax(dim=-1)"
   ]
  },
  {
   "cell_type": "code",
   "execution_count": null,
   "id": "e11a81f5-dbaa-4137-a1e1-ec047193b498",
   "metadata": {},
   "outputs": [],
   "source": []
  },
  {
   "cell_type": "code",
   "execution_count": null,
   "id": "47a30829-1724-4fc6-b8e7-53e48531cbb6",
   "metadata": {},
   "outputs": [],
   "source": []
  },
  {
   "cell_type": "code",
   "execution_count": 714,
   "id": "6586bcfb-0cb9-45da-894b-457df86fe17e",
   "metadata": {},
   "outputs": [],
   "source": [
    "y = m(X[0])"
   ]
  },
  {
   "cell_type": "code",
   "execution_count": 715,
   "id": "53a7c464-96b8-4106-ab82-3bc769f76b09",
   "metadata": {},
   "outputs": [],
   "source": [
    "yans = y.argmax(dim=-1)"
   ]
  },
  {
   "cell_type": "code",
   "execution_count": 716,
   "id": "de2890d2-9aaa-450b-91be-cf36a0942a38",
   "metadata": {},
   "outputs": [
    {
     "data": {
      "text/plain": [
       "'This text is written by Vijay Gaikwad :)$'"
      ]
     },
     "execution_count": 716,
     "metadata": {},
     "output_type": "execute_result"
    }
   ],
   "source": [
    "''.join([chr(y) for y in yans.tolist()])"
   ]
  },
  {
   "cell_type": "code",
   "execution_count": 688,
   "id": "3a1a23df-aa7f-4168-a806-3dfd894b7543",
   "metadata": {},
   "outputs": [
    {
     "data": {
      "text/plain": [
       "tensor([ 84, 104, 105, 115,  32, 116, 101, 120, 116,  32, 105, 115,  32, 119,\n",
       "        114, 105, 116, 116, 101, 110,  32,  98, 121,  32,  86, 105, 106,  97,\n",
       "        121,  32,  71,  97, 105, 107, 119,  97, 100,  32,  58,  41,  36])"
      ]
     },
     "execution_count": 688,
     "metadata": {},
     "output_type": "execute_result"
    }
   ],
   "source": [
    "Y[0]"
   ]
  },
  {
   "cell_type": "code",
   "execution_count": 689,
   "id": "f3b8f379-a4da-4c54-bdf2-6bd2bb62861d",
   "metadata": {},
   "outputs": [
    {
     "data": {
      "text/plain": [
       "'This text is written by Vijay Gaikwad :)$'"
      ]
     },
     "execution_count": 689,
     "metadata": {},
     "output_type": "execute_result"
    }
   ],
   "source": [
    "''.join([chr(y) for y in Y[0].tolist()])"
   ]
  },
  {
   "cell_type": "code",
   "execution_count": 691,
   "id": "8d85a5a3-36e8-45df-a7b9-6b8251a2120f",
   "metadata": {},
   "outputs": [
    {
     "data": {
      "text/plain": [
       "tensor([[ 84, 104, 105, 115,  32, 105, 101, 120, 116, 101, 105, 115,  32, 105,\n",
       "          32, 105, 115, 101, 101, 120,  32, 105, 104,  32, 105, 115, 115,  97,\n",
       "         105,  32, 105, 105, 105, 115, 115,  32, 105, 104, 105,  84,  32]])"
      ]
     },
     "execution_count": 691,
     "metadata": {},
     "output_type": "execute_result"
    }
   ],
   "source": [
    "m(X).argmax(dim=-1)"
   ]
  },
  {
   "cell_type": "code",
   "execution_count": null,
   "id": "ba6b7c7a-a546-4780-bdc2-017ecabc7b0c",
   "metadata": {},
   "outputs": [],
   "source": []
  },
  {
   "cell_type": "code",
   "execution_count": null,
   "id": "9c101fbd-7634-4397-a3ce-d82ecd52cce1",
   "metadata": {},
   "outputs": [],
   "source": []
  },
  {
   "cell_type": "code",
   "execution_count": null,
   "id": "60b8b2c5-92bf-4f91-a51b-d3262ee85cfe",
   "metadata": {},
   "outputs": [],
   "source": []
  },
  {
   "cell_type": "code",
   "execution_count": null,
   "id": "d04f91f9-1064-4c74-b924-2fe7e122dea5",
   "metadata": {},
   "outputs": [],
   "source": []
  },
  {
   "cell_type": "code",
   "execution_count": null,
   "id": "fa849794-a890-4f86-ac1d-935ff68053de",
   "metadata": {},
   "outputs": [],
   "source": []
  },
  {
   "cell_type": "code",
   "execution_count": 592,
   "id": "81826a3e-f9d4-4c18-b27b-9ec16da01503",
   "metadata": {},
   "outputs": [],
   "source": [
    "op = m(X)"
   ]
  },
  {
   "cell_type": "code",
   "execution_count": 585,
   "id": "cf35cb76-ebe9-4927-8c17-d9d00cd9ae47",
   "metadata": {},
   "outputs": [
    {
     "data": {
      "text/plain": [
       "tensor([[ 84, 104, 105, 115,  32, 116, 101, 110, 116, 101, 116, 115,  32, 116,\n",
       "          97, 105, 115, 101, 101, 110,  32, 116, 121,  32, 116, 105, 115,  97,\n",
       "         121,  32, 116,  97, 121, 115, 119,  97, 121,  32, 116,  41,  36]])"
      ]
     },
     "execution_count": 585,
     "metadata": {},
     "output_type": "execute_result"
    }
   ],
   "source": [
    "op.argmax(dim=-1)"
   ]
  },
  {
   "cell_type": "code",
   "execution_count": 586,
   "id": "57424cb6-0c16-4ac9-a984-ca5d84d6a405",
   "metadata": {},
   "outputs": [
    {
     "data": {
      "text/plain": [
       "tensor([[ 84, 104, 105, 115,  32, 116, 101, 120, 116,  32, 105, 115,  32, 119,\n",
       "         114, 105, 116, 116, 101, 110,  32,  98, 121,  32,  86, 105, 106,  97,\n",
       "         121,  32,  71,  97, 105, 107, 119,  97, 100,  32,  58,  41,  36]])"
      ]
     },
     "execution_count": 586,
     "metadata": {},
     "output_type": "execute_result"
    }
   ],
   "source": []
  },
  {
   "cell_type": "code",
   "execution_count": 411,
   "id": "ddff0e27-c6be-4901-a090-5d35a0d9b3a2",
   "metadata": {},
   "outputs": [
    {
     "data": {
      "text/plain": [
       "'This text is written by Vijay Ga'"
      ]
     },
     "execution_count": 411,
     "metadata": {},
     "output_type": "execute_result"
    }
   ],
   "source": [
    "x_test_vec = process_text(\"This text is written by Vijay G\")\n",
    "\n",
    "test_model(m, x_test_vec)"
   ]
  },
  {
   "cell_type": "code",
   "execution_count": null,
   "id": "bdcdab26-b43e-4539-a13c-75049702bbea",
   "metadata": {},
   "outputs": [],
   "source": []
  },
  {
   "cell_type": "code",
   "execution_count": 357,
   "id": "0753e615-d7b8-4ce8-9e6a-45cf745a9b20",
   "metadata": {},
   "outputs": [
    {
     "name": "stdout",
     "output_type": "stream",
     "text": [
      "ello world.\n"
     ]
    }
   ],
   "source": [
    "y_hat = m(x_vec)\n",
    "y_pred = y_hat.argmax(dim=1)\n",
    "y_letters = [chr(y) for y in y_pred.tolist()]\n",
    "y_ans = ''.join(y_letters)\n",
    "print(y_ans)"
   ]
  }
 ],
 "metadata": {
  "kernelspec": {
   "display_name": "Python 3 (ipykernel)",
   "language": "python",
   "name": "python3"
  },
  "language_info": {
   "codemirror_mode": {
    "name": "ipython",
    "version": 3
   },
   "file_extension": ".py",
   "mimetype": "text/x-python",
   "name": "python",
   "nbconvert_exporter": "python",
   "pygments_lexer": "ipython3",
   "version": "3.9.16"
  }
 },
 "nbformat": 4,
 "nbformat_minor": 5
}
