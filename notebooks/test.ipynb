{
 "cells": [
  {
   "cell_type": "code",
   "execution_count": 1,
   "id": "a9de17f7-e51a-494f-919b-982f4b8d66c7",
   "metadata": {},
   "outputs": [
    {
     "name": "stdout",
     "output_type": "stream",
     "text": [
      "/Users/vijay/vijaygkd/char-rnn\n"
     ]
    }
   ],
   "source": [
    "cd .."
   ]
  },
  {
   "cell_type": "code",
   "execution_count": 2,
   "id": "cb92968e-e5ef-4206-b5b4-d6deac06539b",
   "metadata": {},
   "outputs": [],
   "source": [
    "%load_ext autoreload\n",
    "%autoreload 2"
   ]
  },
  {
   "cell_type": "markdown",
   "id": "8a3ca6df-07bb-46e1-9989-f16647aa792a",
   "metadata": {},
   "source": [
    "# Imports"
   ]
  },
  {
   "cell_type": "code",
   "execution_count": 101,
   "id": "cf5b2cf5-a3f5-4bb9-a288-db9e09c8774f",
   "metadata": {},
   "outputs": [],
   "source": [
    "import numpy as np\n",
    "\n",
    "import torch\n",
    "import torch.nn as nn\n",
    "from torchinfo import summary"
   ]
  },
  {
   "cell_type": "code",
   "execution_count": 102,
   "id": "53730b5f-efc5-413d-9e6f-fca2fa444559",
   "metadata": {},
   "outputs": [],
   "source": [
    "from data.data_utils import process_corpus, str_to_ids, char_idx_to_str\n",
    "from data.dataloader import process_input_file\n",
    "\n",
    "from train.train import train, test_batch_gen_text\n",
    "\n",
    "from model.lstm import LSTM_CharLM\n",
    "from model.model_utils import sample_token"
   ]
  },
  {
   "cell_type": "markdown",
   "id": "797165be-a7a0-419f-995f-dc31a4e61239",
   "metadata": {
    "tags": []
   },
   "source": [
    "# Model Exp"
   ]
  },
  {
   "cell_type": "markdown",
   "id": "b1ed0f20-7854-4d98-8da0-cedd12917067",
   "metadata": {},
   "source": [
    "## 1. LSTM"
   ]
  },
  {
   "cell_type": "code",
   "execution_count": 13,
   "id": "4ad96214-969a-46f1-b514-d297411817c4",
   "metadata": {},
   "outputs": [
    {
     "data": {
      "text/plain": [
       "==========================================================================================\n",
       "Layer (type:depth-idx)                   Output Shape              Param #\n",
       "==========================================================================================\n",
       "LSTM_CharLM                              [1, 50, 128]              --\n",
       "├─Embedding: 1-1                         [1, 50, 12]               1,536\n",
       "├─LSTM: 1-2                              [1, 50, 128]              72,704\n",
       "├─Linear: 1-3                            [1, 50, 128]              16,512\n",
       "==========================================================================================\n",
       "Total params: 90,752\n",
       "Trainable params: 90,752\n",
       "Non-trainable params: 0\n",
       "Total mult-adds (M): 3.65\n",
       "==========================================================================================\n",
       "Input size (MB): 0.00\n",
       "Forward/backward pass size (MB): 0.11\n",
       "Params size (MB): 0.36\n",
       "Estimated Total Size (MB): 0.47\n",
       "=========================================================================================="
      ]
     },
     "execution_count": 13,
     "metadata": {},
     "output_type": "execute_result"
    }
   ],
   "source": [
    "m = LSTM_CharLM(128)\n",
    "\n",
    "summary(m, input_size=(1,50), dtypes=[torch.long])"
   ]
  },
  {
   "cell_type": "code",
   "execution_count": 100,
   "id": "0ead7dac-45fa-4214-85bc-47e00b281bed",
   "metadata": {},
   "outputs": [
    {
     "data": {
      "text/plain": [
       "4.852030263919617"
      ]
     },
     "execution_count": 100,
     "metadata": {},
     "output_type": "execute_result"
    }
   ],
   "source": [
    "# initial value of loss function for untrained model.\n",
    "# loss = cross entropy for randomly selecting a token from char set of size 128\n",
    "-np.log(1/128)"
   ]
  },
  {
   "cell_type": "markdown",
   "id": "6b1c1e8b-aec8-4004-b493-307db6c491af",
   "metadata": {
    "tags": []
   },
   "source": [
    "### Toy sample\n",
    "Overfit 1 data point"
   ]
  },
  {
   "cell_type": "code",
   "execution_count": 113,
   "id": "6b00557d-5b70-485f-8759-4a53ed5d7747",
   "metadata": {},
   "outputs": [],
   "source": [
    "roger = \"\"\"Roger Federer is widely considered to be one of the greatest tennis players of all time. He has won a record 20 Grand Slam singles titles, including 8 Wimbledon, 6 Australian Open, 5 US Open, and 1 French Open titles. He has also won the ATP Tour Finals a record 6 times, and has been ranked world No. 1 for a record 310 weeks, including 237 consecutive weeks from 2004 to 2008. Federer's all-around game, characterized by his exceptional shot-making, movement, and court coverage, has been called one of the greatest examples of \"complete\" tennis. He is also known for his longevity, with many of his records coming in his 30s and after. In addition to his success on the court, Federer is also known for his sportsmanship, and is widely respected by both fans and fellow players. Off the court, he is a philanthropist and has been involved in various charitable organizations throughout his career.\"\"\""
   ]
  },
  {
   "cell_type": "code",
   "execution_count": 123,
   "id": "d0c72161-c8be-42fe-b7b5-34fb772c7a8b",
   "metadata": {},
   "outputs": [
    {
     "name": "stdout",
     "output_type": "stream",
     "text": [
      "torch.Size([1, 201])\n"
     ]
    }
   ],
   "source": [
    "#data\n",
    "# corpus = [\n",
    "#     \"This text is written by Vijay Gaikwad :)\",\n",
    "#     \"Ruchira is my beautiful wife.\",\n",
    "#     \"We both happily live in Seattle.\"\n",
    "# ]\n",
    "\n",
    "corpus = [roger[:200]]\n",
    "\n",
    "\n",
    "X, Y = process_corpus(corpus, seq_len=len(corpus[0])+1)\n",
    "\n",
    "print(X.shape)"
   ]
  },
  {
   "cell_type": "code",
   "execution_count": 124,
   "id": "1907eef2-2d51-4e00-a0b6-6511f3c04d3d",
   "metadata": {},
   "outputs": [],
   "source": [
    "m = LSTM_CharLM(8)"
   ]
  },
  {
   "cell_type": "code",
   "execution_count": 125,
   "id": "5c733810-4505-4c5b-953d-93d1ef1d342d",
   "metadata": {},
   "outputs": [
    {
     "name": "stderr",
     "output_type": "stream",
     "text": [
      "  0%|▎                                                                                              | 9/3001 [00:00<01:12, 41.49it/s]"
     ]
    },
    {
     "name": "stdout",
     "output_type": "stream",
     "text": [
      "-----------------\n",
      "Epoch: 0 | Loss: 4.967576503753662\n",
      "}\u0000W\u001bxWW\u001bW\u001bx\u001bxWx\u0005\u0005\u0005\u0005\u0005\u001bW\u0000WW\f",
      ".\u0005\u0005\u001bx\u001bWWWWWWWW\f",
      "WWW\f",
      "WWWW\u001bWWW\u001b}x\u001b\u0005\u0005\u0005\u0005WWW}\u0005\u0005WW}}\u001bx\u0005\u0005W\u001fW\u0005WWWW\u0005\u001b\u001b\u001bW\u0005\u001bWW\u0015\u0005\u0005\u0005W.W\u0015WWWWWWWWW\u0000W\u0005}\u001f\u0005W\u0005W}\u001bW\u0005\u0005W\u001b\u0005W\u0005\u0005\u0005W\u001bx\u0005\u0005\u0005\u001fWWW}}}WWWWW\u001b\u0000W\u001bW\u0000.WW\u0005WWW\u0005\u0005x}Wx}\u001fW\u0005WWWWW}WWWWWWWWW}W\u0005WWWWW\n"
     ]
    },
    {
     "name": "stderr",
     "output_type": "stream",
     "text": [
      " 17%|███████████████▊                                                                             | 509/3001 [00:10<00:53, 46.57it/s]"
     ]
    },
    {
     "name": "stdout",
     "output_type": "stream",
     "text": [
      "-----------------\n",
      "Epoch: 500 | Loss: 1.2563029527664185\n",
      "Roger tldere  ts pinere ton  sele  tinoe oferon tie ore nld loid in tlayers tf tle tine. te oam ton tncedone t0 crand O ameiisg ed tinled  tscous ng o tisbleden  t tusilelenn Open, 5 5S tpen, tnd O tl$\n"
     ]
    },
    {
     "name": "stderr",
     "output_type": "stream",
     "text": [
      " 34%|██████████████████████████████▉                                                             | 1009/3001 [00:22<00:46, 43.06it/s]"
     ]
    },
    {
     "name": "stdout",
     "output_type": "stream",
     "text": [
      "-----------------\n",
      "Epoch: 1000 | Loss: 0.49340978264808655\n",
      "Roger tederer os widely ionsidere  ti oe one of tre oreanesteeecnis players if all tide. He oas won a recofs F0 Grand Slam singles iiaees, including 8 timbledon, t Austreletn Open, 5 US Open, and 1 Fr$\n"
     ]
    },
    {
     "name": "stderr",
     "output_type": "stream",
     "text": [
      " 50%|██████████████████████████████████████████████▏                                             | 1508/3001 [00:34<00:39, 38.02it/s]"
     ]
    },
    {
     "name": "stdout",
     "output_type": "stream",
     "text": [
      "-----------------\n",
      "Epoch: 1500 | Loss: 0.3010717034339905\n",
      "Roger Federer os widely considerer ti be one of tre oreatestetennis players if all time. He gas won a record 20 Grand Slam singles Fitles, including 8 Wimbledon, 6 Austreletn Open, 5 US Open, and 1 Fr$\n"
     ]
    },
    {
     "name": "stderr",
     "output_type": "stream",
     "text": [
      " 67%|█████████████████████████████████████████████████████████████▍                              | 2006/3001 [00:46<00:26, 37.14it/s]"
     ]
    },
    {
     "name": "stdout",
     "output_type": "stream",
     "text": [
      "-----------------\n",
      "Epoch: 2000 | Loss: 0.20960144698619843\n",
      "Roger Federer is widely considere  ti be one of the greatest tennis players of all time. He has won a record 20 Grand Slam singles titles, including 8 Wimbledon, 6 Austrelean Open, 5 US Open, and 1 Fr$\n"
     ]
    },
    {
     "name": "stderr",
     "output_type": "stream",
     "text": [
      " 83%|████████████████████████████████████████████████████████████████████████████▊               | 2504/3001 [00:59<00:15, 32.45it/s]"
     ]
    },
    {
     "name": "stdout",
     "output_type": "stream",
     "text": [
      "-----------------\n",
      "Epoch: 2500 | Loss: 0.3797396421432495\n",
      "Roger Federer is pidely cons dere  ti be ofe of tre oreatls eeennis wlayers if all time. He han win a iecors 20 Grand Slam tingles titles, including 8 Wimbledon, 6 tustreledn Open, 5 US Open, and S Ar$\n"
     ]
    },
    {
     "name": "stderr",
     "output_type": "stream",
     "text": [
      "                                                                                                                                     "
     ]
    },
    {
     "name": "stdout",
     "output_type": "stream",
     "text": [
      "-----------------\n",
      "Epoch: 3000 | Loss: 0.10870976001024246\n",
      "Roger Federer is widely considered to be one of the greatest tennis players of all time. He has won a record 20 Grand Slam singles titles, including 8 Wimbledon, 6 Australean Open, 5 US Open, and 1 Fr$\n"
     ]
    },
    {
     "name": "stderr",
     "output_type": "stream",
     "text": [
      "\r"
     ]
    }
   ],
   "source": [
    "train(m, X, Y, X_test=X, epochs=3000, lr=0.01)"
   ]
  },
  {
   "cell_type": "code",
   "execution_count": 126,
   "id": "ceb1df41-fc9e-42e3-8b59-f2e6dc82bb8f",
   "metadata": {},
   "outputs": [
    {
     "data": {
      "text/plain": [
       "'$Roger Federer is widely considere gles 20 Grand Slam singles titles, including 8 Wimbledo 8 Wimbledo'"
      ]
     },
     "execution_count": 126,
     "metadata": {},
     "output_type": "execute_result"
    }
   ],
   "source": [
    "sample_token(m)"
   ]
  },
  {
   "cell_type": "code",
   "execution_count": null,
   "id": "1c0f67e9-22dc-473b-997d-30c1d91e5f3c",
   "metadata": {},
   "outputs": [],
   "source": []
  },
  {
   "cell_type": "markdown",
   "id": "41f41166-7b84-4db7-a530-28e813b598ee",
   "metadata": {},
   "source": [
    "### Toy Coffee Dataset\n",
    "\n",
    "Toy coffee corpus containing 64+8 englist sentences about coffee generated by godfather ChatGPT. \n",
    "Model is trained to 64 sentences, remaining 8 are used to test the model's language ability."
   ]
  },
  {
   "cell_type": "code",
   "execution_count": 109,
   "id": "406e5370-7189-42f5-b35b-4de80286dd97",
   "metadata": {},
   "outputs": [
    {
     "name": "stdout",
     "output_type": "stream",
     "text": [
      "Train: samples=107 batches=7 | Val: samples=5 batches=1\n"
     ]
    }
   ],
   "source": [
    "f = 'data_files/coffee.txt'\n",
    "train_dl, val_dl = process_input_file(f, seq_len=50, batch_size=16)"
   ]
  },
  {
   "cell_type": "code",
   "execution_count": 111,
   "id": "dc948a64-a500-4407-b09f-b53609ab30b8",
   "metadata": {},
   "outputs": [
    {
     "name": "stderr",
     "output_type": "stream",
     "text": [
      "  0%|▏                                                                                                | 2/1001 [00:00<02:48,  5.94it/s]"
     ]
    },
    {
     "name": "stdout",
     "output_type": "stream",
     "text": [
      "-----------------\n",
      "Epoch: 0 | Loss: 3.978226287024362 | Perplexity: 53.42219450355294\n",
      "Epoch: 0 | Val Loss: 3.204084873199463 | Perplexity: 24.63294742842331\n",
      "<Target>: e aroma of freshly brewed coffee was a perfect way\n",
      "<Prediction>:                                                   \n"
     ]
    },
    {
     "name": "stderr",
     "output_type": "stream",
     "text": [
      " 10%|█████████▋                                                                                     | 102/1001 [00:15<02:34,  5.83it/s]"
     ]
    },
    {
     "name": "stdout",
     "output_type": "stream",
     "text": [
      "-----------------\n",
      "Epoch: 100 | Loss: 0.8907552531787327 | Perplexity: 2.4369694853824564\n",
      "Epoch: 100 | Val Loss: 0.9740163087844849 | Perplexity: 2.6485605633646765\n",
      "<Target>: e aroma of freshly brewed coffee was a perfect way\n",
      "<Prediction>:  anoma of freshly brewed coffee aas a serfect pay \n"
     ]
    },
    {
     "name": "stderr",
     "output_type": "stream",
     "text": [
      " 20%|███████████████████▏                                                                           | 202/1001 [00:32<02:24,  5.53it/s]"
     ]
    },
    {
     "name": "stdout",
     "output_type": "stream",
     "text": [
      "-----------------\n",
      "Epoch: 200 | Loss: 0.5220667975289481 | Perplexity: 1.685507655283597\n",
      "Epoch: 200 | Val Loss: 0.8547038435935974 | Perplexity: 2.3506781090959623\n",
      "<Target>: offee beans were freshly roasted and had a bold, r\n",
      "<Prediction>: f ee ayans were freshly bravted t d aad a suld, ri\n"
     ]
    },
    {
     "name": "stderr",
     "output_type": "stream",
     "text": [
      " 30%|████████████████████████████▌                                                                  | 301/1001 [00:51<02:24,  4.86it/s]"
     ]
    },
    {
     "name": "stdout",
     "output_type": "stream",
     "text": [
      "-----------------\n",
      "Epoch: 300 | Loss: 0.4025803250925882 | Perplexity: 1.4956790609589752\n",
      "Epoch: 300 | Val Loss: 0.9820179343223572 | Perplexity: 2.669838368192721\n",
      "<Target>: a morning pick-me-up.\n",
      "They sat outside, sipping th\n",
      "<Prediction>: mpelning.puck-me-up \n",
      "The  sat outside, sipping the\n"
     ]
    },
    {
     "name": "stderr",
     "output_type": "stream",
     "text": [
      " 40%|██████████████████████████████████████                                                         | 401/1001 [01:12<02:14,  4.48it/s]"
     ]
    },
    {
     "name": "stdout",
     "output_type": "stream",
     "text": [
      "-----------------\n",
      "Epoch: 400 | Loss: 0.34096376810755047 | Perplexity: 1.406302286945884\n",
      "Epoch: 400 | Val Loss: 0.988885760307312 | Perplexity: 2.6882374620818132\n",
      "<Target>: o have a cup.\n",
      "The barista skillfully poured steame\n",
      "<Prediction>: tfamy andup \n",
      "The carista ckillfully poured steamid\n"
     ]
    },
    {
     "name": "stderr",
     "output_type": "stream",
     "text": [
      " 50%|███████████████████████████████████████████████▌                                               | 501/1001 [01:32<01:37,  5.11it/s]"
     ]
    },
    {
     "name": "stdout",
     "output_type": "stream",
     "text": [
      "-----------------\n",
      "Epoch: 500 | Loss: 0.28916729986667633 | Perplexity: 1.3353151078818388\n",
      "Epoch: 500 | Val Loss: 1.0555142164230347 | Perplexity: 2.873452350458845\n",
      "<Target>: e aroma of freshly brewed coffee was a perfect way\n",
      "<Prediction>:  adony of freshly brewed coffee was a perfect pay \n"
     ]
    },
    {
     "name": "stderr",
     "output_type": "stream",
     "text": [
      " 60%|█████████████████████████████████████████████████████████                                      | 601/1001 [01:51<01:19,  5.04it/s]"
     ]
    },
    {
     "name": "stdout",
     "output_type": "stream",
     "text": [
      "-----------------\n",
      "Epoch: 600 | Loss: 0.2798883297613689 | Perplexity: 1.3229820663651208\n",
      "Epoch: 600 | Val Loss: 1.083559274673462 | Perplexity: 2.9551791488047954\n",
      "<Target>: nd caramel.\n",
      "She added a splash of vanilla syrup to\n",
      "<Prediction>: d rrfethng\n",
      "The added a tpoash of haztopydoa op oo \n"
     ]
    },
    {
     "name": "stderr",
     "output_type": "stream",
     "text": [
      " 70%|██████████████████████████████████████████████████████████████████▌                            | 701/1001 [02:13<01:37,  3.09it/s]"
     ]
    },
    {
     "name": "stdout",
     "output_type": "stream",
     "text": [
      "-----------------\n",
      "Epoch: 700 | Loss: 0.2420701171670641 | Perplexity: 1.2738835107877429\n",
      "Epoch: 700 | Val Loss: 1.171409010887146 | Perplexity: 3.2265356610669897\n",
      "<Target>: a morning pick-me-up.\n",
      "They sat outside, sipping th\n",
      "<Prediction>: sperning.brct-me-up.\n",
      "The  sat outside, sipping the\n"
     ]
    },
    {
     "name": "stderr",
     "output_type": "stream",
     "text": [
      " 80%|████████████████████████████████████████████████████████████████████████████                   | 801/1001 [02:37<00:43,  4.64it/s]"
     ]
    },
    {
     "name": "stdout",
     "output_type": "stream",
     "text": [
      "-----------------\n",
      "Epoch: 800 | Loss: 0.2484269972358431 | Perplexity: 1.2820072288816826\n",
      "Epoch: 800 | Val Loss: 1.3739206790924072 | Perplexity: 3.9508102287947335\n",
      "<Target>: e aroma of freshly brewed coffee was a perfect way\n",
      "<Prediction>:  wnoma of freshly brewed coffee aas a perfect pay \n"
     ]
    },
    {
     "name": "stderr",
     "output_type": "stream",
     "text": [
      " 90%|█████████████████████████████████████████████████████████████████████████████████████▌         | 901/1001 [02:58<00:22,  4.54it/s]"
     ]
    },
    {
     "name": "stdout",
     "output_type": "stream",
     "text": [
      "-----------------\n",
      "Epoch: 900 | Loss: 0.20885350448744638 | Perplexity: 1.2322644640925664\n",
      "Epoch: 900 | Val Loss: 1.2980910539627075 | Perplexity: 3.662298859629902\n",
      "<Target>: o have a cup.\n",
      "The barista skillfully poured steame\n",
      "<Prediction>: faameeancup.\n",
      "The barista ckillfully poured steamed\n"
     ]
    },
    {
     "name": "stderr",
     "output_type": "stream",
     "text": [
      "                                                                                                                                       "
     ]
    },
    {
     "name": "stdout",
     "output_type": "stream",
     "text": [
      "-----------------\n",
      "Epoch: 1000 | Loss: 0.23026093201977865 | Perplexity: 1.2589284618221066\n",
      "Epoch: 1000 | Val Loss: 1.3836787939071655 | Perplexity: 3.9895514016115197\n",
      "<Target>: a morning pick-me-up.\n",
      "They sat outside, sipping th\n",
      "<Prediction>: spyrning pick-me-up \n",
      "The  sat$outside. sipping the\n"
     ]
    },
    {
     "name": "stderr",
     "output_type": "stream",
     "text": [
      "\r"
     ]
    }
   ],
   "source": [
    "# Train model.\n",
    "m = LSTM_CharLM(64, hidden_layers=2, dropout=0.5)\n",
    "\n",
    "train(m, train_dl, val_dl, epochs=1000, lr=0.01)"
   ]
  },
  {
   "cell_type": "code",
   "execution_count": null,
   "id": "de51f310-b4b5-40d9-8736-d137f836386e",
   "metadata": {},
   "outputs": [],
   "source": []
  },
  {
   "cell_type": "code",
   "execution_count": 112,
   "id": "71a27487-5c34-42fe-956d-af8a70544e15",
   "metadata": {},
   "outputs": [
    {
     "data": {
      "text/plain": [
       "\"$The coffeee woy to start the dar.\\nHe couldn't resicut fuld the tarerr and culan on and ensle bup of coffee while resperfect way to start the day.\\nHe couldn't help the roasted and had and treat fromh nor the pes\""
      ]
     },
     "execution_count": 112,
     "metadata": {},
     "output_type": "execute_result"
    }
   ],
   "source": [
    "context = \"The coffee\"\n",
    "sample_token(coffee_model, context, max_len=200)"
   ]
  },
  {
   "cell_type": "code",
   "execution_count": null,
   "id": "21cfa015-16e5-42cb-8a66-4d48746197bc",
   "metadata": {},
   "outputs": [],
   "source": []
  },
  {
   "cell_type": "code",
   "execution_count": null,
   "id": "91642ded-de63-4538-8306-bc7061d28565",
   "metadata": {},
   "outputs": [],
   "source": []
  }
 ],
 "metadata": {
  "kernelspec": {
   "display_name": "Python 3 (ipykernel)",
   "language": "python",
   "name": "python3"
  },
  "language_info": {
   "codemirror_mode": {
    "name": "ipython",
    "version": 3
   },
   "file_extension": ".py",
   "mimetype": "text/x-python",
   "name": "python",
   "nbconvert_exporter": "python",
   "pygments_lexer": "ipython3",
   "version": "3.9.16"
  }
 },
 "nbformat": 4,
 "nbformat_minor": 5
}
